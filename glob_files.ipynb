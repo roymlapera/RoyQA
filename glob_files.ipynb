{
 "cells": [
  {
   "cell_type": "code",
   "execution_count": 5,
   "metadata": {},
   "outputs": [
    {
     "name": "stdout",
     "output_type": "stream",
     "text": [
      "P:\\8 - Físicos Médicos\\Roy\\INTECNUS---RoyQA\\MONACO\\SYNERGY FULL\\ELECTRONES\\DFS 100\\20x20\\BLUEoELECoSYN.ELECoSYN.Coronal.202.10.4\n",
      "P:\\8 - Físicos Médicos\\Roy\\INTECNUS---RoyQA\\MONACO\\SYNERGY FULL\\ELECTRONES\\DFS 100\\20x20\\BLUEoELECoSYN.ELECoSYN.Coronal.210.10.3\n",
      "P:\\8 - Físicos Médicos\\Roy\\INTECNUS---RoyQA\\MONACO\\SYNERGY FULL\\ELECTRONES\\DFS 100\\20x20\\BLUEoELECoSYN.ELECoSYN.Coronal.221.40.2\n",
      "P:\\8 - Físicos Médicos\\Roy\\INTECNUS---RoyQA\\MONACO\\SYNERGY FULL\\ELECTRONES\\DFS 100\\20x20\\BLUEoELECoSYN.ELECoSYN.Coronal.231.20.1\n",
      "P:\\8 - Físicos Médicos\\Roy\\INTECNUS---RoyQA\\MONACO\\SYNERGY FULL\\ELECTRONES\\DFS 100\\20x20\\BLUEoELECoSYN.ELECoSYN.Transverse.0.00.1\n",
      "P:\\8 - Físicos Médicos\\Roy\\INTECNUS---RoyQA\\MONACO\\SYNERGY FULL\\ELECTRONES\\DFS 100\\20x20\\BLUEoELECoSYN.ELECoSYN.Transverse.0.00.2\n",
      "P:\\8 - Físicos Médicos\\Roy\\INTECNUS---RoyQA\\MONACO\\SYNERGY FULL\\ELECTRONES\\DFS 100\\20x20\\BLUEoELECoSYN.ELECoSYN.Transverse.0.00.3\n",
      "P:\\8 - Físicos Médicos\\Roy\\INTECNUS---RoyQA\\MONACO\\SYNERGY FULL\\ELECTRONES\\DFS 100\\20x20\\BLUEoELECoSYN.ELECoSYN.Transverse.0.00.4\n",
      "P:\\8 - Físicos Médicos\\Roy\\INTECNUS---RoyQA\\MONACO\\SYNERGY FULL\\ELECTRONES\\DFS 100\\6x6\\BLUEoELECoSYN.ELECoSYN6x6.Coronal.203.10.4\n",
      "P:\\8 - Físicos Médicos\\Roy\\INTECNUS---RoyQA\\MONACO\\SYNERGY FULL\\ELECTRONES\\DFS 100\\6x6\\BLUEoELECoSYN.ELECoSYN6x6.Coronal.211.10.3\n",
      "P:\\8 - Físicos Médicos\\Roy\\INTECNUS---RoyQA\\MONACO\\SYNERGY FULL\\ELECTRONES\\DFS 100\\6x6\\BLUEoELECoSYN.ELECoSYN6x6.Coronal.222.40.2\n",
      "P:\\8 - Físicos Médicos\\Roy\\INTECNUS---RoyQA\\MONACO\\SYNERGY FULL\\ELECTRONES\\DFS 100\\6x6\\BLUEoELECoSYN.ELECoSYN6x6.Coronal.232.20.1\n",
      "P:\\8 - Físicos Médicos\\Roy\\INTECNUS---RoyQA\\MONACO\\SYNERGY FULL\\ELECTRONES\\DFS 100\\6x6\\BLUEoELECoSYN.ELECoSYN6x6.Transverse.0.00.1\n",
      "P:\\8 - Físicos Médicos\\Roy\\INTECNUS---RoyQA\\MONACO\\SYNERGY FULL\\ELECTRONES\\DFS 100\\6x6\\BLUEoELECoSYN.ELECoSYN6x6.Transverse.0.00.2\n",
      "P:\\8 - Físicos Médicos\\Roy\\INTECNUS---RoyQA\\MONACO\\SYNERGY FULL\\ELECTRONES\\DFS 100\\6x6\\BLUEoELECoSYN.ELECoSYN6x6.Transverse.0.00.3\n",
      "P:\\8 - Físicos Médicos\\Roy\\INTECNUS---RoyQA\\MONACO\\SYNERGY FULL\\ELECTRONES\\DFS 100\\6x6\\BLUEoELECoSYN.ELECoSYN6x6.Transverse.0.00.4\n",
      "P:\\8 - Físicos Médicos\\Roy\\INTECNUS---RoyQA\\MONACO\\SYNERGY FULL\\ELECTRONES\\DFS 100\\6x6\\BLUEoELECoSYN.ELECoSYN6x6.Transverse.0.00.5\n",
      "P:\\8 - Físicos Médicos\\Roy\\INTECNUS---RoyQA\\MONACO\\SYNERGY FULL\\X15\\Cuña\\CUNASYN.CUNAoSYN.Coronal.150.00.3\n",
      "P:\\8 - Físicos Médicos\\Roy\\INTECNUS---RoyQA\\MONACO\\SYNERGY FULL\\X15\\Cuña\\CUNASYN.CUNAoSYN.Coronal.150.00.4\n",
      "P:\\8 - Físicos Médicos\\Roy\\INTECNUS---RoyQA\\MONACO\\SYNERGY FULL\\X15\\Cuña\\CUNASYN.CUNAoSYN.Coronal.223.00.3\n",
      "P:\\8 - Físicos Médicos\\Roy\\INTECNUS---RoyQA\\MONACO\\SYNERGY FULL\\X15\\Cuña\\CUNASYN.CUNAoSYN.Coronal.223.00.4\n",
      "P:\\8 - Físicos Médicos\\Roy\\INTECNUS---RoyQA\\MONACO\\SYNERGY FULL\\X15\\PDDs\\DFS 100\\BLUEx15oSYN.FotonesX15SYN.Transverse.0.00.5\n",
      "P:\\8 - Físicos Médicos\\Roy\\INTECNUS---RoyQA\\MONACO\\SYNERGY FULL\\X15\\PDDs\\DFS 100\\CUNASYN.CUNAoSYN.Transverse.0.00.3\n",
      "P:\\8 - Físicos Médicos\\Roy\\INTECNUS---RoyQA\\MONACO\\SYNERGY FULL\\X15\\PDDs\\DFS 100\\20x20\\BLUEx15oSYN.FotonesX15SYN.Transverse.0.00.3\n",
      "P:\\8 - Físicos Médicos\\Roy\\INTECNUS---RoyQA\\MONACO\\SYNERGY FULL\\X15\\PDDs\\DFS 100\\30x30\\BLUEx15oSYN.FotonesX15SYN.Transverse.0.00.4\n",
      "P:\\8 - Físicos Médicos\\Roy\\INTECNUS---RoyQA\\MONACO\\SYNERGY FULL\\X15\\PDDs\\DFS 100\\5x5\\BLUEx15oSYN.FotonesX15SYN.Transverse.0.00.1\n",
      "P:\\8 - Físicos Médicos\\Roy\\INTECNUS---RoyQA\\MONACO\\SYNERGY FULL\\X15\\PDDs\\DFS 100\\5x5\\BLUEx15oSYN.FotonesX15SYN.Transverse.0.00.2\n",
      "P:\\8 - Físicos Médicos\\Roy\\INTECNUS---RoyQA\\MONACO\\SYNERGY FULL\\X15\\Perfiles\\DFS 100\\10x10\\BLUEx15oSYN.FotonesX15SYN.Coronal.150.00.2\n",
      "P:\\8 - Físicos Médicos\\Roy\\INTECNUS---RoyQA\\MONACO\\SYNERGY FULL\\X15\\Perfiles\\DFS 100\\10x10\\BLUEx15oSYN.FotonesX15SYN.Coronal.200.00.2\n",
      "P:\\8 - Físicos Médicos\\Roy\\INTECNUS---RoyQA\\MONACO\\SYNERGY FULL\\X15\\Perfiles\\DFS 100\\10x10\\BLUEx15oSYN.FotonesX15SYN.Coronal.223.00.2\n",
      "P:\\8 - Físicos Médicos\\Roy\\INTECNUS---RoyQA\\MONACO\\SYNERGY FULL\\X15\\Perfiles\\DFS 100\\10x10\\BLUEx15oSYN.FotonesX15SYN.Coronal.50.00.2\n",
      "P:\\8 - Físicos Médicos\\Roy\\INTECNUS---RoyQA\\MONACO\\SYNERGY FULL\\X15\\Perfiles\\DFS 100\\20x20\\BLUEx15oSYN.FotonesX15SYN.Coronal.150.00.3\n",
      "P:\\8 - Físicos Médicos\\Roy\\INTECNUS---RoyQA\\MONACO\\SYNERGY FULL\\X15\\Perfiles\\DFS 100\\30x30\\BLUEx15oSYN.FotonesX15SYN.Coronal.150.00.4\n",
      "P:\\8 - Físicos Médicos\\Roy\\INTECNUS---RoyQA\\MONACO\\SYNERGY FULL\\X15\\Perfiles\\DFS 100\\5x5\\BLUEx15oSYN.FotonesX15SYN.Coronal.150.00.1\n",
      "P:\\8 - Físicos Médicos\\Roy\\INTECNUS---RoyQA\\MONACO\\SYNERGY FULL\\X15\\Perfiles\\DFS 100\\5x5\\BLUEx15oSYN.FotonesX15SYN.Coronal.50.00.1\n",
      "P:\\8 - Físicos Médicos\\Roy\\INTECNUS---RoyQA\\MONACO\\SYNERGY FULL\\X6\\Cuña\\CUNASYN.CUNAoSYN.Coronal.150.00.1\n",
      "P:\\8 - Físicos Médicos\\Roy\\INTECNUS---RoyQA\\MONACO\\SYNERGY FULL\\X6\\Cuña\\CUNASYN.CUNAoSYN.Coronal.150.00.2\n",
      "P:\\8 - Físicos Médicos\\Roy\\INTECNUS---RoyQA\\MONACO\\SYNERGY FULL\\X6\\Cuña\\CUNASYN.CUNAoSYN.Coronal.234.00.1\n",
      "P:\\8 - Físicos Médicos\\Roy\\INTECNUS---RoyQA\\MONACO\\SYNERGY FULL\\X6\\Cuña\\CUNASYN.CUNAoSYN.Coronal.234.00.2\n",
      "P:\\8 - Físicos Médicos\\Roy\\INTECNUS---RoyQA\\MONACO\\SYNERGY FULL\\X6\\PDDs\\DFS 100\\BLUEx06oSYN.FotonesX06SYN.Transverse.0.00.5\n",
      "P:\\8 - Físicos Médicos\\Roy\\INTECNUS---RoyQA\\MONACO\\SYNERGY FULL\\X6\\PDDs\\DFS 100\\CUNASYN.CUNAoSYN.Transverse.0.00.1\n",
      "P:\\8 - Físicos Médicos\\Roy\\INTECNUS---RoyQA\\MONACO\\SYNERGY FULL\\X6\\PDDs\\DFS 100\\10x10\\BLUEx06oSYN.FotonesX06SYN.Transverse.0.00.2\n",
      "P:\\8 - Físicos Médicos\\Roy\\INTECNUS---RoyQA\\MONACO\\SYNERGY FULL\\X6\\PDDs\\DFS 100\\20x20\\BLUEx06oSYN.FotonesX06SYN.Transverse.0.00.3\n",
      "P:\\8 - Físicos Médicos\\Roy\\INTECNUS---RoyQA\\MONACO\\SYNERGY FULL\\X6\\PDDs\\DFS 100\\30x30\\BLUEx06oSYN.FotonesX06SYN.Transverse.0.00.4\n",
      "P:\\8 - Físicos Médicos\\Roy\\INTECNUS---RoyQA\\MONACO\\SYNERGY FULL\\X6\\PDDs\\DFS 100\\5x5\\BLUEx06oSYN.FotonesX06SYN.Transverse.0.00.1\n",
      "P:\\8 - Físicos Médicos\\Roy\\INTECNUS---RoyQA\\MONACO\\SYNERGY FULL\\X6\\Perfiles\\DFS 100\\10x10\\BLUEx06oSYN.FotonesX06SYN.Coronal.150.00.2\n",
      "P:\\8 - Físicos Médicos\\Roy\\INTECNUS---RoyQA\\MONACO\\SYNERGY FULL\\X6\\Perfiles\\DFS 100\\10x10\\BLUEx06oSYN.FotonesX06SYN.Coronal.200.00.2\n",
      "P:\\8 - Físicos Médicos\\Roy\\INTECNUS---RoyQA\\MONACO\\SYNERGY FULL\\X6\\Perfiles\\DFS 100\\10x10\\BLUEx06oSYN.FotonesX06SYN.Coronal.234.00.2\n",
      "P:\\8 - Físicos Médicos\\Roy\\INTECNUS---RoyQA\\MONACO\\SYNERGY FULL\\X6\\Perfiles\\DFS 100\\10x10\\BLUEx06oSYN.FotonesX06SYN.Coronal.50.00.2\n",
      "P:\\8 - Físicos Médicos\\Roy\\INTECNUS---RoyQA\\MONACO\\SYNERGY FULL\\X6\\Perfiles\\DFS 100\\20x20\\BLUEx06oSYN.FotonesX06SYN.Coronal.150.00.3\n",
      "P:\\8 - Físicos Médicos\\Roy\\INTECNUS---RoyQA\\MONACO\\SYNERGY FULL\\X6\\Perfiles\\DFS 100\\30x30\\BLUEx06oSYN.FotonesX06SYN.Coronal.150.00.4\n",
      "P:\\8 - Físicos Médicos\\Roy\\INTECNUS---RoyQA\\MONACO\\SYNERGY FULL\\X6\\Perfiles\\DFS 100\\5x5\\BLUEx06oSYN.FotonesX06SYN.Coronal.150.00.1\n",
      "P:\\8 - Físicos Médicos\\Roy\\INTECNUS---RoyQA\\MONACO\\SYNERGY FULL\\X6\\Perfiles\\DFS 100\\5x5\\BLUEx06oSYN.FotonesX06SYN.Coronal.50.00.1\n"
     ]
    }
   ],
   "source": [
    "from pathlib import Path\n",
    "\n",
    "def import_calculated_monaco_ref_data(monaco_folder):\n",
    "    if machine == 'S':\n",
    "        monaco_folder += '\\SYNERGY FULL'\n",
    "    elif machine == 'P':\n",
    "        monaco_folder += '\\PLATFORM'\n",
    "    else:\n",
    "        print('Error reconociendo máquina.')\n",
    "    return [str(path) for path in Path(monaco_folder).rglob('*') if path.is_file()]\n",
    "\n",
    "# Example usage\n",
    "monaco_folder = r'P:\\8 - Físicos Médicos\\Roy\\INTECNUS---RoyQA\\MONACO'\n",
    "all_files = get_all_file_paths(monaco_folder, 'S')\n",
    "for file in all_files:\n",
    "    print(file)"
   ]
  }
 ],
 "metadata": {
  "kernelspec": {
   "display_name": "Python 3",
   "language": "python",
   "name": "python3"
  },
  "language_info": {
   "codemirror_mode": {
    "name": "ipython",
    "version": 3
   },
   "file_extension": ".py",
   "mimetype": "text/x-python",
   "name": "python",
   "nbconvert_exporter": "python",
   "pygments_lexer": "ipython3",
   "version": "3.11.4"
  }
 },
 "nbformat": 4,
 "nbformat_minor": 2
}
