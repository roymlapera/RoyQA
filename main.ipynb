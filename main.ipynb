{
 "cells": [
  {
   "cell_type": "code",
   "execution_count": 4,
   "metadata": {},
   "outputs": [
    {
     "name": "stdout",
     "output_type": "stream",
     "text": [
      "hardcodeado a maquina platform, cambiar en importacion curvas\n",
      "Medido:\n",
      "Equipo:      P, Fecha:       08-12-2024, Hora:        15:16:23, Particula:   0, Energia:     15.0, DFS:         100.0, TC:          10.0, Coordenada:  X, Profundidad: 16.0\n",
      "Equipo:      P, Fecha:       08-12-2024, Hora:        15:16:53, Particula:   0, Energia:     15.0, DFS:         100.0, TC:          10.0, Coordenada:  X, Profundidad: 50.0\n",
      "Equipo:      P, Fecha:       08-12-2024, Hora:        15:17:57, Particula:   0, Energia:     15.0, DFS:         100.0, TC:          10.0, Coordenada:  X, Profundidad: 100.0\n",
      "Equipo:      P, Fecha:       08-12-2024, Hora:        15:18:42, Particula:   0, Energia:     15.0, DFS:         100.0, TC:          10.0, Coordenada:  X, Profundidad: 200.0\n",
      "Equipo:      P, Fecha:       08-12-2024, Hora:        15:19:46, Particula:   0, Energia:     15.0, DFS:         100.0, TC:          10.0, Coordenada:  Y, Profundidad: 200.0\n",
      "Equipo:      P, Fecha:       08-12-2024, Hora:        15:20:51, Particula:   0, Energia:     15.0, DFS:         100.0, TC:          10.0, Coordenada:  Y, Profundidad: 100.0\n",
      "Equipo:      P, Fecha:       08-12-2024, Hora:        15:21:38, Particula:   0, Energia:     15.0, DFS:         100.0, TC:          10.0, Coordenada:  Y, Profundidad: 50.0\n",
      "Equipo:      P, Fecha:       08-12-2024, Hora:        15:22:14, Particula:   0, Energia:     15.0, DFS:         100.0, TC:          10.0, Coordenada:  Y, Profundidad: 16.0\n",
      "Equipo:      P, Fecha:       08-12-2024, Hora:        15:26:13, Particula:   0, Energia:     15.0, DFS:         100.0, TC:          20.0, Coordenada:  Y, Profundidad: 100.0\n",
      "Equipo:      P, Fecha:       08-12-2024, Hora:        15:27:04, Particula:   0, Energia:     15.0, DFS:         100.0, TC:          20.0, Coordenada:  X, Profundidad: 100.0\n",
      "Equipo:      P, Fecha:       08-12-2024, Hora:        15:31:42, Particula:   0, Energia:     15.0, DFS:         100.0, TC:          5.0, Coordenada:  X, Profundidad: 100.0\n",
      "Equipo:      P, Fecha:       08-12-2024, Hora:        15:32:06, Particula:   0, Energia:     15.0, DFS:         100.0, TC:          5.0, Coordenada:  Y, Profundidad: 100.0\n",
      "Equipo:      P, Fecha:       08-12-2024, Hora:        15:32:28, Particula:   0, Energia:     15.0, DFS:         100.0, TC:          30.0, Coordenada:  X, Profundidad: 100.0\n",
      "Equipo:      P, Fecha:       08-12-2024, Hora:        15:36:56, Particula:   0, Energia:     15.0, DFS:         100.0, TC:          30.0, Coordenada:  Y, Profundidad: 100.0\n",
      "Equipo:      P, Fecha:       08-12-2024, Hora:        15:14:45, Particula:   0, Energia:     15.0, DFS:         100.0, TC:          10.0, Coordenada:  Z, Profundidad: \n",
      "Equipo:      P, Fecha:       08-12-2024, Hora:        15:22:41, Particula:   0, Energia:     15.0, DFS:         100.0, TC:          20.0, Coordenada:  Z, Profundidad: \n",
      "Equipo:      P, Fecha:       08-12-2024, Hora:        15:27:57, Particula:   0, Energia:     15.0, DFS:         100.0, TC:          5.0, Coordenada:  Z, Profundidad: \n",
      "Equipo:      P, Fecha:       08-12-2024, Hora:        15:38:01, Particula:   0, Energia:     15.0, DFS:         100.0, TC:          30.0, Coordenada:  Z, Profundidad: \n",
      "Calculado:\n",
      "Equipo:      P, Fecha:       , Hora:        , Particula:   0, Energia:     15.0, DFS:         100.0, TC:          30.0, Coordenada:  X, Profundidad: 100.0\n",
      "Equipo:      P, Fecha:       , Hora:        , Particula:   0, Energia:     15.0, DFS:         100.0, TC:          30.0, Coordenada:  Y, Profundidad: 100.0\n",
      "Match!\n",
      "Calcing using global normalisation point for gamma\n",
      "Global normalisation set to 101.17380074445789\n",
      "Global dose threshold set to [2.02347601] ([2.]% of normalisation)\n",
      "Distance threshold set to [2.]\n",
      "Lower dose cutoff set to 10.11738007444579 (10.0% of normalisation)\n",
      "\n",
      "Current distance: 2.40 mm | Number of reference points remaining: 12 | Points tested per reference point: 2 | RAM split count: 11\n",
      "Complete!\n",
      "exportado\n",
      "Match!\n",
      "Calcing using global normalisation point for gamma\n",
      "Global normalisation set to 100.97473485355799\n",
      "Global dose threshold set to [2.0194947] ([2.]% of normalisation)\n",
      "Distance threshold set to [2.]\n",
      "Lower dose cutoff set to 10.097473485355799 (10.0% of normalisation)\n",
      "\n",
      "Current distance: 4.00 mm | Number of reference points remaining: 7 | Points tested per reference point: 2 | RAM split count: 111\n",
      "Complete!\n",
      "exportado\n"
     ]
    }
   ],
   "source": [
    "from GUI import VentanaPrincipal\n",
    "\n",
    "\n",
    "if __name__ == '__main__':\n",
    "   VentanaPrincipal()\n"
   ]
  }
 ],
 "metadata": {
  "kernelspec": {
   "display_name": "Python 3",
   "language": "python",
   "name": "python3"
  },
  "language_info": {
   "codemirror_mode": {
    "name": "ipython",
    "version": 3
   },
   "file_extension": ".py",
   "mimetype": "text/x-python",
   "name": "python",
   "nbconvert_exporter": "python",
   "pygments_lexer": "ipython3",
   "version": "3.11.4"
  }
 },
 "nbformat": 4,
 "nbformat_minor": 2
}
