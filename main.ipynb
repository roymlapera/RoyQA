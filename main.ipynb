{
 "cells": [
  {
   "cell_type": "code",
   "execution_count": 11,
   "metadata": {},
   "outputs": [
    {
     "name": "stdout",
     "output_type": "stream",
     "text": [
      "Se cuadruplica valor de sigma en electrones!\n",
      "Medido:\n",
      "Equipo:      S, Fecha:       19/05/2024, Hora:        14:20:40, Particula:   1, Energia:     6.0, DFS:         100.0, TC:          20.0, Coordenada:  Z, Profundidad: , Detector:    CC13SN14317\n",
      "R50: 23.552261597938145 mm\n",
      "Equipo:      S, Fecha:       19/05/2024, Hora:        14:24:55, Particula:   1, Energia:     9.0, DFS:         100.0, TC:          20.0, Coordenada:  Z, Profundidad: , Detector:    CC13SN14317\n",
      "R50: 35.369841269841274 mm\n",
      "Equipo:      S, Fecha:       19/05/2024, Hora:        14:28:52, Particula:   1, Energia:     12.0, DFS:         100.0, TC:          20.0, Coordenada:  Z, Profundidad: , Detector:    CC13SN14317\n",
      "R50: 49.10034129692833 mm\n",
      "Equipo:      S, Fecha:       19/05/2024, Hora:        14:32:56, Particula:   1, Energia:     15.0, DFS:         100.0, TC:          20.0, Coordenada:  Z, Profundidad: , Detector:    CC13SN14317\n",
      "R50: 58.8979797979798 mm\n",
      "Equipo:      S, Fecha:       19/05/2024, Hora:        14:46:10, Particula:   1, Energia:     6.0, DFS:         100.0, TC:          6.0, Coordenada:  Z, Profundidad: , Detector:    CC13SN14317\n",
      "Equipo:      S, Fecha:       19/05/2024, Hora:        14:48:41, Particula:   1, Energia:     9.0, DFS:         100.0, TC:          6.0, Coordenada:  Z, Profundidad: , Detector:    CC13SN14317\n",
      "Equipo:      S, Fecha:       19/05/2024, Hora:        14:57:35, Particula:   1, Energia:     12.0, DFS:         100.0, TC:          6.0, Coordenada:  Z, Profundidad: , Detector:    CC13SN14317\n",
      "Equipo:      S, Fecha:       19/05/2024, Hora:        15:00:19, Particula:   1, Energia:     15.0, DFS:         100.0, TC:          6.0, Coordenada:  Z, Profundidad: , Detector:    CC13SN14317\n",
      "Calculado:\n",
      "Equipo:      S, Fecha:       , Hora:        , Particula:   1, Energia:     6.0, DFS:         100.0, TC:          6.0, Coordenada:  Z, Profundidad: 0.0, Detector:    N/A\n",
      "Equipo:      S, Fecha:       , Hora:        , Particula:   1, Energia:     9.0, DFS:         100.0, TC:          6.0, Coordenada:  Z, Profundidad: 0.0, Detector:    N/A\n",
      "Equipo:      S, Fecha:       , Hora:        , Particula:   1, Energia:     12.0, DFS:         100.0, TC:          6.0, Coordenada:  Z, Profundidad: 0.0, Detector:    N/A\n",
      "Equipo:      S, Fecha:       , Hora:        , Particula:   1, Energia:     15.0, DFS:         100.0, TC:          6.0, Coordenada:  Z, Profundidad: 0.0, Detector:    N/A\n",
      "Equipo:      S, Fecha:       , Hora:        , Particula:   1, Energia:     18.0, DFS:         100.0, TC:          6.0, Coordenada:  Z, Profundidad: 0.0, Detector:    N/A\n",
      "Equipo:      S, Fecha:       , Hora:        , Particula:   1, Energia:     6.0, DFS:         100.0, TC:          20.0, Coordenada:  Z, Profundidad: 0.0, Detector:    N/A\n",
      "R50: 22.749132173011976 mm\n",
      "Equipo:      S, Fecha:       , Hora:        , Particula:   1, Energia:     9.0, DFS:         100.0, TC:          20.0, Coordenada:  Z, Profundidad: 0.0, Detector:    N/A\n",
      "R50: 34.303895873879476 mm\n",
      "Equipo:      S, Fecha:       , Hora:        , Particula:   1, Energia:     12.0, DFS:         100.0, TC:          20.0, Coordenada:  Z, Profundidad: 0.0, Detector:    N/A\n",
      "R50: 47.76344941684476 mm\n",
      "Equipo:      S, Fecha:       , Hora:        , Particula:   1, Energia:     15.0, DFS:         100.0, TC:          20.0, Coordenada:  Z, Profundidad: 0.0, Detector:    N/A\n",
      "R50: 57.84854319859938 mm\n",
      "Equipo:      S, Fecha:       , Hora:        , Particula:   0, Energia:     6.0, DFS:         100.0, TC:          5.0, Coordenada:  Z, Profundidad: 0.0, Detector:    N/A\n",
      "Equipo:      S, Fecha:       , Hora:        , Particula:   0, Energia:     6.0, DFS:         100.0, TC:          10.0, Coordenada:  Z, Profundidad: 0.0, Detector:    N/A\n",
      "Equipo:      S, Fecha:       , Hora:        , Particula:   0, Energia:     6.0, DFS:         100.0, TC:          20.0, Coordenada:  Z, Profundidad: 0.0, Detector:    N/A\n",
      "Equipo:      S, Fecha:       , Hora:        , Particula:   0, Energia:     6.0, DFS:         100.0, TC:          30.0, Coordenada:  Z, Profundidad: 0.0, Detector:    N/A\n",
      "Equipo:      S, Fecha:       , Hora:        , Particula:   0, Energia:     6.0, DFS:         100.0, TC:          40.0, Coordenada:  Z, Profundidad: 0.0, Detector:    N/A\n",
      "Equipo:      S, Fecha:       , Hora:        , Particula:   0, Energia:     6.0, DFS:         90.0, TC:          0.5, Coordenada:  Z, Profundidad: 0.0, Detector:    N/A\n",
      "Equipo:      S, Fecha:       , Hora:        , Particula:   0, Energia:     6.0, DFS:         90.0, TC:          1.5, Coordenada:  Z, Profundidad: 0.0, Detector:    N/A\n",
      "Equipo:      S, Fecha:       , Hora:        , Particula:   0, Energia:     6.0, DFS:         90.0, TC:          1.0, Coordenada:  Z, Profundidad: 0.0, Detector:    N/A\n",
      "Equipo:      S, Fecha:       , Hora:        , Particula:   0, Energia:     6.0, DFS:         90.0, TC:          2.0, Coordenada:  Z, Profundidad: 0.0, Detector:    N/A\n",
      "Equipo:      S, Fecha:       , Hora:        , Particula:   0, Energia:     6.0, DFS:         90.0, TC:          3.0, Coordenada:  Z, Profundidad: 0.0, Detector:    N/A\n",
      "Equipo:      S, Fecha:       , Hora:        , Particula:   0, Energia:     6.0, DFS:         90.0, TC:          4.0, Coordenada:  Z, Profundidad: 0.0, Detector:    N/A\n",
      "Equipo:      S, Fecha:       , Hora:        , Particula:   0, Energia:     6.0, DFS:         90.0, TC:          10.0, Coordenada:  Z, Profundidad: 0.0, Detector:    N/A\n",
      "Equipo:      S, Fecha:       , Hora:        , Particula:   0, Energia:     15.0, DFS:         100.0, TC:          5.0, Coordenada:  Z, Profundidad: 0.0, Detector:    N/A\n",
      "Equipo:      S, Fecha:       , Hora:        , Particula:   0, Energia:     15.0, DFS:         100.0, TC:          10.0, Coordenada:  Z, Profundidad: 0.0, Detector:    N/A\n",
      "Equipo:      S, Fecha:       , Hora:        , Particula:   0, Energia:     15.0, DFS:         100.0, TC:          20.0, Coordenada:  Z, Profundidad: 0.0, Detector:    N/A\n",
      "Equipo:      S, Fecha:       , Hora:        , Particula:   0, Energia:     15.0, DFS:         100.0, TC:          30.0, Coordenada:  Z, Profundidad: 0.0, Detector:    N/A\n",
      "Equipo:      S, Fecha:       , Hora:        , Particula:   0, Energia:     15.0, DFS:         100.0, TC:          40.0, Coordenada:  Z, Profundidad: 0.0, Detector:    N/A\n",
      "Match!\n",
      "Match!\n",
      "Match!\n",
      "Match!\n",
      "Match!\n",
      "Match!\n",
      "Match!\n",
      "Match!\n"
     ]
    },
    {
     "data": {
      "text/plain": [
       "<GUI.VentanaPrincipal at 0x2c5ab585e10>"
      ]
     },
     "execution_count": 11,
     "metadata": {},
     "output_type": "execute_result"
    }
   ],
   "source": [
    "from GUI import VentanaPrincipal\n",
    "\n",
    "\n",
    "# if __name__ == '__main__':\n",
    "#    VentanaPrincipal()\n",
    "\n",
    "VentanaPrincipal()      #in case of IPYNB"
   ]
  }
 ],
 "metadata": {
  "kernelspec": {
   "display_name": "Python 3",
   "language": "python",
   "name": "python3"
  },
  "language_info": {
   "codemirror_mode": {
    "name": "ipython",
    "version": 3
   },
   "file_extension": ".py",
   "mimetype": "text/x-python",
   "name": "python",
   "nbconvert_exporter": "python",
   "pygments_lexer": "ipython3",
   "version": "3.11.4"
  }
 },
 "nbformat": 4,
 "nbformat_minor": 2
}
