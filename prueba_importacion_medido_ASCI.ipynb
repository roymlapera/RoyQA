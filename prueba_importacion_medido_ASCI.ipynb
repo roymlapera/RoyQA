{
 "cells": [
  {
   "cell_type": "code",
   "execution_count": null,
   "metadata": {},
   "outputs": [],
   "source": [
    "import numpy as np\n",
    "import os\n",
    "from Curvas import Curve\n",
    "from typing import List\n",
    "\n",
    "measurement_filename = r'P:\\8 - Físicos Médicos\\Roy\\INTECNUS---RoyQA\\Medido Synergy 2024\\electrones synery 2024.asc'\n",
    "\n",
    "calculation_filename = r''\n",
    "\n",
    "calc_curves = import_measured_curves(measurement_filename, machine='Syn')\n",
    "\n",
    "# queda crear nueva funcion que ingresa dosis en monaco a partir de cualquier filename y asigna valor de maquina\n"
   ]
  }
 ],
 "metadata": {
  "kernelspec": {
   "display_name": "Python 3",
   "language": "python",
   "name": "python3"
  },
  "language_info": {
   "codemirror_mode": {
    "name": "ipython",
    "version": 3
   },
   "file_extension": ".py",
   "mimetype": "text/x-python",
   "name": "python",
   "nbconvert_exporter": "python",
   "pygments_lexer": "ipython3",
   "version": "3.11.4"
  }
 },
 "nbformat": 4,
 "nbformat_minor": 2
}
