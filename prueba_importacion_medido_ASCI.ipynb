{
 "cells": [
  {
   "cell_type": "code",
   "execution_count": 2,
   "metadata": {},
   "outputs": [],
   "source": [
    "import numpy as np\n",
    "import os\n",
    "from Curvas import Curva\n",
    "from Curvas import Convert\n",
    "\n",
    "fname = r'P:\\8 - Físicos Médicos\\Roy\\INTECNUS---RoyQA\\Medido Synergy 2024\\electrones synery 2024.asc'"
   ]
  },
  {
   "cell_type": "code",
   "execution_count": null,
   "metadata": {},
   "outputs": [],
   "source": [
    "def IngresaPerfilMedido(fname):\n",
    "\n",
    "    a = np.genfromtxt(fname,dtype=str, delimiter='\\n', skip_header=1, skip_footer=1)\n",
    "\n",
    "    fname = os.path.split(fname)[1].split('.')[0]\n",
    "\n",
    "    l = []\n",
    "    for s in a: \n",
    "        s = s.replace('<','')\n",
    "        s = s.replace('>','')\n",
    "        s = s.replace('+','')\n",
    "        l.append(Convert(s))\n",
    "\n",
    "    curvas = []\n",
    "\n",
    "    for e in l:\n",
    "        if e[0] == '$STOM':\n",
    "            aux = []\n",
    "            continue\n",
    "        if e[0] == '$ENOM': \n",
    "            curvas.append(aux)\n",
    "            continue\n",
    "        else: aux.append(e)\n",
    "\n",
    "    Perfiles = []\n",
    "\n",
    "    print('\\n'+'Datos de perfiles medidos ingresados:')\n",
    "\n",
    "    for i in range(len(curvas)):\n",
    "        perfil = Curva()\n",
    "\n",
    "        perfil.coordenada  = str(curvas[i][6][1])\n",
    "        perfil.fecha       = str(curvas[i][1][1])\n",
    "        perfil.profundidad = str(curvas[i][10][1])\n",
    "        perfil.dfp         = str(curvas[i][9][2])\n",
    "        perfil.tc          = str(curvas[i][4][1])\n",
    "        perfil.energia     = fname.split(' ')[1].upper()\n",
    "        perfil.equipo      = fname.split(' ')[0].upper()\n",
    "        \n",
    "        perfil.valor       = np.array(curvas[i][11:], dtype=float)[:,3]\n",
    "\n",
    "        if(perfil.coordenada=='X'):\n",
    "            perfil.eje     = np.array(curvas[i][11:], dtype=float)[:,0]\n",
    "        else:\n",
    "            perfil.eje     = np.array(curvas[i][11:], dtype=float)[:,1]\n",
    "\n",
    "        Perfiles.append(perfil)\n",
    "\n",
    "    print('Datos de dosis ingresada:')\n",
    "    \n",
    "    for perfil in Perfiles:\n",
    "        print('Equipo: %s, DFP: %s, TC: %s, Z: %s, Eje: %s, Energía: %s' % (perfil.equipo, perfil.dfp, perfil.tc, perfil.profundidad, perfil.coordenada, perfil.energia) )\n",
    "\n",
    "    return Perfiles"
   ]
  },
  {
   "cell_type": "code",
   "execution_count": null,
   "metadata": {},
   "outputs": [],
   "source": []
  }
 ],
 "metadata": {
  "kernelspec": {
   "display_name": "Python 3",
   "language": "python",
   "name": "python3"
  },
  "language_info": {
   "codemirror_mode": {
    "name": "ipython",
    "version": 3
   },
   "file_extension": ".py",
   "mimetype": "text/x-python",
   "name": "python",
   "nbconvert_exporter": "python",
   "pygments_lexer": "ipython3",
   "version": "3.11.4"
  }
 },
 "nbformat": 4,
 "nbformat_minor": 2
}
